{
  "cells": [
    {
      "cell_type": "markdown",
      "source": [
        "# Introduction"
      ],
      "metadata": {
        "id": "WGFcPT2BDnGY"
      },
      "id": "WGFcPT2BDnGY"
    },
    {
      "cell_type": "markdown",
      "id": "e46763ac",
      "metadata": {
        "id": "e46763ac"
      },
      "source": [
        "This notebook will demonstrate the comparison of 3 machine learning models; Logistic regression, neural networks and Naive Bayes. These models will be on the Mushroom Classification Dataset, the goal is to predict with these models if a given mushroom is poisonous or edible.\n",
        "We will take the steps necessary to optimize the models that lack precision or recall.\n",
        "At the end we’ll conduct a comparison of these algorithms using appropriate metrics in order to come with the verdict of which model is best for our dataset.\n"
      ]
    },
    {
      "cell_type": "markdown",
      "id": "10dfbf7b",
      "metadata": {
        "id": "10dfbf7b"
      },
      "source": [
        "# Importing Libraries"
      ]
    },
    {
      "cell_type": "markdown",
      "id": "da809d80",
      "metadata": {
        "id": "da809d80"
      },
      "source": [
        "Presenting the used libraries."
      ]
    },
    {
      "cell_type": "code",
      "execution_count": null,
      "id": "8bb7ed19",
      "metadata": {
        "id": "8bb7ed19"
      },
      "outputs": [],
      "source": [
        "import pandas as pd\n",
        "import numpy as np\n",
        "import matplotlib.pyplot as plt\n",
        "import seaborn as sns\n",
        "import scipy.stats as stats\n",
        "\n",
        "from sklearn.model_selection import train_test_split\n",
        "from sklearn.model_selection import GridSearchCV\n",
        "from sklearn.feature_selection import VarianceThreshold\n",
        "from sklearn.preprocessing import OrdinalEncoder\n",
        "from sklearn.feature_selection import SelectKBest, chi2\n",
        "from sklearn.preprocessing import LabelEncoder\n",
        "from sklearn.preprocessing import StandardScaler\n",
        "\n",
        "from sklearn.naive_bayes import GaussianNB\n",
        "from sklearn.linear_model import LogisticRegression\n",
        "from sklearn.neural_network import MLPClassifier\n",
        "\n",
        "from sklearn.metrics import precision_recall_curve\n",
        "from sklearn.metrics import PrecisionRecallDisplay\n",
        "\n",
        "\n",
        "import warnings\n",
        "warnings.filterwarnings('ignore')"
      ]
    },
    {
      "cell_type": "markdown",
      "id": "298a00bf",
      "metadata": {
        "id": "298a00bf"
      },
      "source": [
        "# Loading Data"
      ]
    },
    {
      "cell_type": "code",
      "execution_count": null,
      "id": "93b96473",
      "metadata": {
        "id": "93b96473"
      },
      "outputs": [],
      "source": [
        "df = pd.read_csv(\"dataset/mushrooms.csv\")"
      ]
    },
    {
      "cell_type": "code",
      "execution_count": null,
      "id": "1395a91a",
      "metadata": {
        "scrolled": true,
        "id": "1395a91a",
        "colab": {
          "base_uri": "https://localhost:8080/",
          "height": 352
        },
        "outputId": "8717012d-70e6-4f87-838f-aa7c460b5a6f"
      },
      "outputs": [
        {
          "output_type": "execute_result",
          "data": {
            "text/plain": [
              "  class cap-shape cap-surface cap-color bruises odor gill-attachment  \\\n",
              "0     p         x           s         n       t    p               f   \n",
              "1     e         x           s         y       t    a               f   \n",
              "2     e         b           s         w       t    l               f   \n",
              "3     p         x           y         w       t    p               f   \n",
              "4     e         x           s         g       f    n               f   \n",
              "\n",
              "  gill-spacing gill-size gill-color  ... stalk-surface-below-ring  \\\n",
              "0            c         n          k  ...                        s   \n",
              "1            c         b          k  ...                        s   \n",
              "2            c         b          n  ...                        s   \n",
              "3            c         n          n  ...                        s   \n",
              "4            w         b          k  ...                        s   \n",
              "\n",
              "  stalk-color-above-ring stalk-color-below-ring veil-type veil-color  \\\n",
              "0                      w                      w         p          w   \n",
              "1                      w                      w         p          w   \n",
              "2                      w                      w         p          w   \n",
              "3                      w                      w         p          w   \n",
              "4                      w                      w         p          w   \n",
              "\n",
              "  ring-number ring-type spore-print-color population habitat  \n",
              "0           o         p                 k          s       u  \n",
              "1           o         p                 n          n       g  \n",
              "2           o         p                 n          n       m  \n",
              "3           o         p                 k          s       u  \n",
              "4           o         e                 n          a       g  \n",
              "\n",
              "[5 rows x 23 columns]"
            ],
            "text/html": [
              "\n",
              "  <div id=\"df-26dc960d-4ae8-4b0d-bb37-28a95be531dc\">\n",
              "    <div class=\"colab-df-container\">\n",
              "      <div>\n",
              "<style scoped>\n",
              "    .dataframe tbody tr th:only-of-type {\n",
              "        vertical-align: middle;\n",
              "    }\n",
              "\n",
              "    .dataframe tbody tr th {\n",
              "        vertical-align: top;\n",
              "    }\n",
              "\n",
              "    .dataframe thead th {\n",
              "        text-align: right;\n",
              "    }\n",
              "</style>\n",
              "<table border=\"1\" class=\"dataframe\">\n",
              "  <thead>\n",
              "    <tr style=\"text-align: right;\">\n",
              "      <th></th>\n",
              "      <th>class</th>\n",
              "      <th>cap-shape</th>\n",
              "      <th>cap-surface</th>\n",
              "      <th>cap-color</th>\n",
              "      <th>bruises</th>\n",
              "      <th>odor</th>\n",
              "      <th>gill-attachment</th>\n",
              "      <th>gill-spacing</th>\n",
              "      <th>gill-size</th>\n",
              "      <th>gill-color</th>\n",
              "      <th>...</th>\n",
              "      <th>stalk-surface-below-ring</th>\n",
              "      <th>stalk-color-above-ring</th>\n",
              "      <th>stalk-color-below-ring</th>\n",
              "      <th>veil-type</th>\n",
              "      <th>veil-color</th>\n",
              "      <th>ring-number</th>\n",
              "      <th>ring-type</th>\n",
              "      <th>spore-print-color</th>\n",
              "      <th>population</th>\n",
              "      <th>habitat</th>\n",
              "    </tr>\n",
              "  </thead>\n",
              "  <tbody>\n",
              "    <tr>\n",
              "      <th>0</th>\n",
              "      <td>p</td>\n",
              "      <td>x</td>\n",
              "      <td>s</td>\n",
              "      <td>n</td>\n",
              "      <td>t</td>\n",
              "      <td>p</td>\n",
              "      <td>f</td>\n",
              "      <td>c</td>\n",
              "      <td>n</td>\n",
              "      <td>k</td>\n",
              "      <td>...</td>\n",
              "      <td>s</td>\n",
              "      <td>w</td>\n",
              "      <td>w</td>\n",
              "      <td>p</td>\n",
              "      <td>w</td>\n",
              "      <td>o</td>\n",
              "      <td>p</td>\n",
              "      <td>k</td>\n",
              "      <td>s</td>\n",
              "      <td>u</td>\n",
              "    </tr>\n",
              "    <tr>\n",
              "      <th>1</th>\n",
              "      <td>e</td>\n",
              "      <td>x</td>\n",
              "      <td>s</td>\n",
              "      <td>y</td>\n",
              "      <td>t</td>\n",
              "      <td>a</td>\n",
              "      <td>f</td>\n",
              "      <td>c</td>\n",
              "      <td>b</td>\n",
              "      <td>k</td>\n",
              "      <td>...</td>\n",
              "      <td>s</td>\n",
              "      <td>w</td>\n",
              "      <td>w</td>\n",
              "      <td>p</td>\n",
              "      <td>w</td>\n",
              "      <td>o</td>\n",
              "      <td>p</td>\n",
              "      <td>n</td>\n",
              "      <td>n</td>\n",
              "      <td>g</td>\n",
              "    </tr>\n",
              "    <tr>\n",
              "      <th>2</th>\n",
              "      <td>e</td>\n",
              "      <td>b</td>\n",
              "      <td>s</td>\n",
              "      <td>w</td>\n",
              "      <td>t</td>\n",
              "      <td>l</td>\n",
              "      <td>f</td>\n",
              "      <td>c</td>\n",
              "      <td>b</td>\n",
              "      <td>n</td>\n",
              "      <td>...</td>\n",
              "      <td>s</td>\n",
              "      <td>w</td>\n",
              "      <td>w</td>\n",
              "      <td>p</td>\n",
              "      <td>w</td>\n",
              "      <td>o</td>\n",
              "      <td>p</td>\n",
              "      <td>n</td>\n",
              "      <td>n</td>\n",
              "      <td>m</td>\n",
              "    </tr>\n",
              "    <tr>\n",
              "      <th>3</th>\n",
              "      <td>p</td>\n",
              "      <td>x</td>\n",
              "      <td>y</td>\n",
              "      <td>w</td>\n",
              "      <td>t</td>\n",
              "      <td>p</td>\n",
              "      <td>f</td>\n",
              "      <td>c</td>\n",
              "      <td>n</td>\n",
              "      <td>n</td>\n",
              "      <td>...</td>\n",
              "      <td>s</td>\n",
              "      <td>w</td>\n",
              "      <td>w</td>\n",
              "      <td>p</td>\n",
              "      <td>w</td>\n",
              "      <td>o</td>\n",
              "      <td>p</td>\n",
              "      <td>k</td>\n",
              "      <td>s</td>\n",
              "      <td>u</td>\n",
              "    </tr>\n",
              "    <tr>\n",
              "      <th>4</th>\n",
              "      <td>e</td>\n",
              "      <td>x</td>\n",
              "      <td>s</td>\n",
              "      <td>g</td>\n",
              "      <td>f</td>\n",
              "      <td>n</td>\n",
              "      <td>f</td>\n",
              "      <td>w</td>\n",
              "      <td>b</td>\n",
              "      <td>k</td>\n",
              "      <td>...</td>\n",
              "      <td>s</td>\n",
              "      <td>w</td>\n",
              "      <td>w</td>\n",
              "      <td>p</td>\n",
              "      <td>w</td>\n",
              "      <td>o</td>\n",
              "      <td>e</td>\n",
              "      <td>n</td>\n",
              "      <td>a</td>\n",
              "      <td>g</td>\n",
              "    </tr>\n",
              "  </tbody>\n",
              "</table>\n",
              "<p>5 rows × 23 columns</p>\n",
              "</div>\n",
              "      <button class=\"colab-df-convert\" onclick=\"convertToInteractive('df-26dc960d-4ae8-4b0d-bb37-28a95be531dc')\"\n",
              "              title=\"Convert this dataframe to an interactive table.\"\n",
              "              style=\"display:none;\">\n",
              "        \n",
              "  <svg xmlns=\"http://www.w3.org/2000/svg\" height=\"24px\"viewBox=\"0 0 24 24\"\n",
              "       width=\"24px\">\n",
              "    <path d=\"M0 0h24v24H0V0z\" fill=\"none\"/>\n",
              "    <path d=\"M18.56 5.44l.94 2.06.94-2.06 2.06-.94-2.06-.94-.94-2.06-.94 2.06-2.06.94zm-11 1L8.5 8.5l.94-2.06 2.06-.94-2.06-.94L8.5 2.5l-.94 2.06-2.06.94zm10 10l.94 2.06.94-2.06 2.06-.94-2.06-.94-.94-2.06-.94 2.06-2.06.94z\"/><path d=\"M17.41 7.96l-1.37-1.37c-.4-.4-.92-.59-1.43-.59-.52 0-1.04.2-1.43.59L10.3 9.45l-7.72 7.72c-.78.78-.78 2.05 0 2.83L4 21.41c.39.39.9.59 1.41.59.51 0 1.02-.2 1.41-.59l7.78-7.78 2.81-2.81c.8-.78.8-2.07 0-2.86zM5.41 20L4 18.59l7.72-7.72 1.47 1.35L5.41 20z\"/>\n",
              "  </svg>\n",
              "      </button>\n",
              "      \n",
              "  <style>\n",
              "    .colab-df-container {\n",
              "      display:flex;\n",
              "      flex-wrap:wrap;\n",
              "      gap: 12px;\n",
              "    }\n",
              "\n",
              "    .colab-df-convert {\n",
              "      background-color: #E8F0FE;\n",
              "      border: none;\n",
              "      border-radius: 50%;\n",
              "      cursor: pointer;\n",
              "      display: none;\n",
              "      fill: #1967D2;\n",
              "      height: 32px;\n",
              "      padding: 0 0 0 0;\n",
              "      width: 32px;\n",
              "    }\n",
              "\n",
              "    .colab-df-convert:hover {\n",
              "      background-color: #E2EBFA;\n",
              "      box-shadow: 0px 1px 2px rgba(60, 64, 67, 0.3), 0px 1px 3px 1px rgba(60, 64, 67, 0.15);\n",
              "      fill: #174EA6;\n",
              "    }\n",
              "\n",
              "    [theme=dark] .colab-df-convert {\n",
              "      background-color: #3B4455;\n",
              "      fill: #D2E3FC;\n",
              "    }\n",
              "\n",
              "    [theme=dark] .colab-df-convert:hover {\n",
              "      background-color: #434B5C;\n",
              "      box-shadow: 0px 1px 3px 1px rgba(0, 0, 0, 0.15);\n",
              "      filter: drop-shadow(0px 1px 2px rgba(0, 0, 0, 0.3));\n",
              "      fill: #FFFFFF;\n",
              "    }\n",
              "  </style>\n",
              "\n",
              "      <script>\n",
              "        const buttonEl =\n",
              "          document.querySelector('#df-26dc960d-4ae8-4b0d-bb37-28a95be531dc button.colab-df-convert');\n",
              "        buttonEl.style.display =\n",
              "          google.colab.kernel.accessAllowed ? 'block' : 'none';\n",
              "\n",
              "        async function convertToInteractive(key) {\n",
              "          const element = document.querySelector('#df-26dc960d-4ae8-4b0d-bb37-28a95be531dc');\n",
              "          const dataTable =\n",
              "            await google.colab.kernel.invokeFunction('convertToInteractive',\n",
              "                                                     [key], {});\n",
              "          if (!dataTable) return;\n",
              "\n",
              "          const docLinkHtml = 'Like what you see? Visit the ' +\n",
              "            '<a target=\"_blank\" href=https://colab.research.google.com/notebooks/data_table.ipynb>data table notebook</a>'\n",
              "            + ' to learn more about interactive tables.';\n",
              "          element.innerHTML = '';\n",
              "          dataTable['output_type'] = 'display_data';\n",
              "          await google.colab.output.renderOutput(dataTable, element);\n",
              "          const docLink = document.createElement('div');\n",
              "          docLink.innerHTML = docLinkHtml;\n",
              "          element.appendChild(docLink);\n",
              "        }\n",
              "      </script>\n",
              "    </div>\n",
              "  </div>\n",
              "  "
            ]
          },
          "metadata": {},
          "execution_count": 60
        }
      ],
      "source": [
        "df.head()"
      ]
    },
    {
      "cell_type": "markdown",
      "id": "fc2e5e2e",
      "metadata": {
        "id": "fc2e5e2e"
      },
      "source": [
        "# Data Analysist"
      ]
    },
    {
      "cell_type": "markdown",
      "source": [
        "For this analysist, we have 23 features including the output column \"class\".\n",
        "We created a countplotmultiple function to show multiple count plots within the same figures, this allows us to select the features that we want and demonstrate a side by side comparison."
      ],
      "metadata": {
        "id": "XbVp-8LNXXlm"
      },
      "id": "XbVp-8LNXXlm"
    },
    {
      "cell_type": "code",
      "source": [
        "def countplotmultiple(df,n,cols):\n",
        "  fig, axs = plt.subplots(1, n, figsize=(20,8), constrained_layout=True)\n",
        "  i=0\n",
        "  for col in cols:\n",
        "    sns.countplot(df[col], data = df, ax=axs[i])\n",
        "    i=i+1\n",
        "  plt.show()"
      ],
      "metadata": {
        "id": "7ynVm7VvLb0S"
      },
      "id": "7ynVm7VvLb0S",
      "execution_count": null,
      "outputs": []
    },
    {
      "cell_type": "code",
      "execution_count": null,
      "id": "4e152a0e",
      "metadata": {
        "id": "4e152a0e"
      },
      "outputs": [],
      "source": [
        "# replacing output class labels\n",
        "df[\"class\"].replace({\"e\": \"edible\", \"p\": \"poisonous\"}, inplace= True)"
      ]
    },
    {
      "cell_type": "code",
      "source": [
        "sns.countplot(df[\"class\"], data = df)"
      ],
      "metadata": {
        "id": "r3uvc9Rq909o",
        "colab": {
          "base_uri": "https://localhost:8080/",
          "height": 296
        },
        "outputId": "9b511744-844e-4c72-f0ef-281c34cfc874"
      },
      "id": "r3uvc9Rq909o",
      "execution_count": null,
      "outputs": [
        {
          "output_type": "execute_result",
          "data": {
            "text/plain": [
              "<matplotlib.axes._subplots.AxesSubplot at 0x7f68edc19e90>"
            ]
          },
          "metadata": {},
          "execution_count": 63
        },
        {
          "output_type": "display_data",
          "data": {
            "text/plain": [
              "<Figure size 432x288 with 1 Axes>"
            ],
            "image/png": "[encoded data removed]"
          },
          "metadata": {
            "needs_background": "light"
          }
        }
      ]
    },
    {
      "cell_type": "markdown",
      "source": [
        "We can see that the data we have is perfectly balanced with almost 50% poisonous 50% edible mushrooms, this is great as we won't have to worry about balancing the dataset during preprocessing. This also means that the model will be able to make good prediction using Naive Bayes when we do model training later in this demonstration."
      ],
      "metadata": {
        "id": "KbkzDmIW_OdS"
      },
      "id": "KbkzDmIW_OdS"
    },
    {
      "cell_type": "code",
      "source": [
        "# replacing cap features labels\n",
        "df[\"cap-shape\"].replace({\"b\": \"bell\", \"c\": \"conical\", \"x\": \"convex\", \"f\": \"flat\", \"k\": \"knobbed\", \"s\": \"sunken\"}, inplace= True)\n",
        "df[\"cap-surface\"].replace({\"f\": \"fibrous\", \"g\": \"grooves\", \"y\": \"scaly\", \"s\": \"smooth\"}, inplace= True)\n",
        "df[\"cap-color\"].replace({\"n\": \"brown\", \"b\": \"buff\", \"c\": \"cinnamon\", \"g\": \"gray\", \"r\": \"green\", \"p\": \"pink\", \"u\": \"purple\", \"e\": \"red\", \"w\": \"white\", \"y\": \"yellow\"}, inplace= True)"
      ],
      "metadata": {
        "id": "jMbMNbXAKXjZ"
      },
      "id": "jMbMNbXAKXjZ",
      "execution_count": null,
      "outputs": []
    },
    {
      "cell_type": "code",
      "source": [
        "countplotmultiple(df, 3,[\"cap-shape\",\"cap-surface\",\"cap-color\"])"
      ],
      "metadata": {
        "id": "TrSwFrPwAGi8",
        "colab": {
          "base_uri": "https://localhost:8080/",
          "height": 363
        },
        "outputId": "52815d92-7bb7-4ca8-bbda-478bbb5773f0"
      },
      "id": "TrSwFrPwAGi8",
      "execution_count": null,
      "outputs": [
        {
          "output_type": "display_data",
          "data": {
            "text/plain": [
              "<Figure size 1440x576 with 3 Axes>"
            ],
            "image/png": "[encoded data removed]"
          },
          "metadata": {
            "needs_background": "light"
          }
        }
      ]
    },
    {
      "cell_type": "markdown",
      "source": [
        "Here we can visualize the data and check the count plots for the cap features, that is shape, surface and color.\n",
        "\n",
        "\n",
        "1. We can see that most of the mushrooms have either a convex or flat cap shape.\n",
        "2. There are less mushrooms with grooves cap surface.\n",
        "3. Most cap colors are brown.\n",
        "\n",
        "Looking at these plots, we can ask ourselves some questions:\n",
        "* Can we eliminate some of these feature and still have a good accuracy when training the model?\n",
        "\n",
        "\n",
        "\n",
        "\n"
      ],
      "metadata": {
        "id": "YJZ11ehBEEsg"
      },
      "id": "YJZ11ehBEEsg"
    },
    {
      "cell_type": "code",
      "source": [
        "# replacing bruises and odor features labels\n",
        "df[\"bruises\"].replace({\"t\": \"bruises\", \"f\": \"no bruises\"}, inplace= True)\n",
        "df[\"odor\"].replace({\"a\": \"almond\", \"l\": \"anise\", \"c\": \"creosote\",  \"y\": \"fishy\",  \"f\": \"foul\",  \"m\": \"musty\",  \"n\": \"none\",  \"p\": \"pungent\",  \"s\": \"spicy\"}, inplace= True)"
      ],
      "metadata": {
        "id": "CL37n1nZFmLo"
      },
      "id": "CL37n1nZFmLo",
      "execution_count": null,
      "outputs": []
    },
    {
      "cell_type": "code",
      "source": [
        "countplotmultiple(df, 2,[\"bruises\",\"odor\"])"
      ],
      "metadata": {
        "id": "AFnr_vpSKj7q",
        "colab": {
          "base_uri": "https://localhost:8080/",
          "height": 363
        },
        "outputId": "7301da1d-952f-46ee-c3ff-3345ca32ceff"
      },
      "id": "AFnr_vpSKj7q",
      "execution_count": null,
      "outputs": [
        {
          "output_type": "display_data",
          "data": {
            "text/plain": [
              "<Figure size 1440x576 with 2 Axes>"
            ],
            "image/png": "[encoded data removed]"
          },
          "metadata": {
            "needs_background": "light"
          }
        }
      ]
    },
    {
      "cell_type": "markdown",
      "source": [
        "*Bruises*\n",
        "\n",
        "Even though for the example we have mushrooms have mostly no bruises, we can see that there is an almost even distrubution for bruised/not bruised mushrooms in this dataset.\n",
        "\n",
        "\n",
        "---\n",
        "*Odor*\n",
        "\n",
        "Most mushrooms have no odor but this feature will probably be of high importance to our model, as you can usually tell if a mushroom is edible or not knowing the odor, so this will affect our model and the training outcome."
      ],
      "metadata": {
        "id": "X2junIa8O9pu"
      },
      "id": "X2junIa8O9pu"
    },
    {
      "cell_type": "code",
      "source": [
        "# replacing gill features labels\n",
        "df[\"gill-attachment\"].replace({\"a\": \"attached\", \"d\": \"descending\", \"f\": \"free\", \"n\": \"notched\"}, inplace= True)\n",
        "df[\"gill-spacing\"].replace({\"c\": \"close\", \"w\": \"crowded\", \"d\": \"distant\"}, inplace= True)\n",
        "df[\"gill-size\"].replace({\"b\": \"broad\", \"n\": \"narrow\"}, inplace= True)\n",
        "df[\"gill-color\"].replace({\"k\": \"black\", \"n\": \"brown\", \"b\": \"buff\", \"h\": \"chocolate\", \"g\": \"gray\", \"r\": \"green\", \"o\": \"orange\",\n",
        "                          \"p\": \"pink\", \"u\": \"purple\", \"e\": \"red\", \"w\": \"white\", \"y\": \"yellow\"}, inplace= True)"
      ],
      "metadata": {
        "id": "6HBxme7xKjdH"
      },
      "id": "6HBxme7xKjdH",
      "execution_count": null,
      "outputs": []
    },
    {
      "cell_type": "code",
      "source": [
        "countplotmultiple(df, 3,[\"gill-attachment\",\"gill-spacing\",\"gill-size\"])"
      ],
      "metadata": {
        "id": "NU1ihIkQKrSA",
        "colab": {
          "base_uri": "https://localhost:8080/",
          "height": 363
        },
        "outputId": "00fcd6e3-bc9a-4e36-e3c4-b06f0f627a9c"
      },
      "id": "NU1ihIkQKrSA",
      "execution_count": null,
      "outputs": [
        {
          "output_type": "display_data",
          "data": {
            "text/plain": [
              "<Figure size 1440x576 with 3 Axes>"
            ],
            "image/png": "[encoded data removed]"
          },
          "metadata": {
            "needs_background": "light"
          }
        }
      ]
    },
    {
      "cell_type": "markdown",
      "source": [
        "\n",
        "\n",
        "*   More mushrooms with free gill attachement, close gill spacing and broad gill size.\n",
        "*   We can probably drop the gill-attachement feature to increase our training time but since we don't have many features we can keep it for this classification problem.\n",
        "\n"
      ],
      "metadata": {
        "id": "3PLBszg1e1dq"
      },
      "id": "3PLBszg1e1dq"
    },
    {
      "cell_type": "code",
      "source": [
        "fig, ax = plt.subplots(figsize=(20,8))\n",
        "sns.countplot(df[\"gill-color\"], data = df, ax=ax)"
      ],
      "metadata": {
        "id": "km_W8mtfPQ--",
        "colab": {
          "base_uri": "https://localhost:8080/",
          "height": 384
        },
        "outputId": "8790388b-d4bc-489c-ed91-d13e948acaf1"
      },
      "id": "km_W8mtfPQ--",
      "execution_count": null,
      "outputs": [
        {
          "output_type": "execute_result",
          "data": {
            "text/plain": [
              "<matplotlib.axes._subplots.AxesSubplot at 0x7f68f2f4b8d0>"
            ]
          },
          "metadata": {},
          "execution_count": 70
        },
        {
          "output_type": "display_data",
          "data": {
            "text/plain": [
              "<Figure size 1440x576 with 1 Axes>"
            ],
            "image/png": "[encoded data removed]"
          },
          "metadata": {
            "needs_background": "light"
          }
        }
      ]
    },
    {
      "cell_type": "code",
      "source": [
        "# replacing stalk features labels\n",
        "df[\"stalk-shape\"].replace({\"e\": \"enlarging\", \"t\": \"tapering\"}, inplace= True)\n",
        "df[\"stalk-root\"].replace({\"b\": \"bulbous\", \"c\": \"club\", \"u\": \"cup\", \"e\": \"equal\", \"z\": \"rhizomorphs\", \"r\": \"rooted\", \"?\": \"missing\"}, inplace= True)\n",
        "df[\"stalk-surface-above-ring\"].replace({\"f\": \"fibrous\", \"y\": \"scaly\", \"k\": \"silky\", \"s\": \"smooth\"}, inplace= True)\n",
        "df[\"stalk-surface-below-ring\"].replace({\"f\": \"fibrous\", \"y\": \"scaly\", \"k\": \"silky\", \"s\": \"smooth\"}, inplace= True)\n",
        "df[\"stalk-color-above-ring\"].replace({\"n\": \"brown\", \"b\": \"buff\", \"c\": \"cinnamon\", \"g\": \"gray\", \"o\": \"orange\", \"p\": \"pink\", \"e\": \"red\", \"w\": \"white\", \"y\": \"yellow\"}, inplace= True)\n",
        "df[\"stalk-color-below-ring\"].replace({\"n\": \"brown\", \"b\": \"buff\", \"c\": \"cinnamon\", \"g\": \"gray\", \"o\": \"orange\", \"p\": \"pink\", \"e\": \"red\", \"w\": \"white\", \"y\": \"yellow\"}, inplace= True)"
      ],
      "metadata": {
        "id": "HlgCOs1OKq4k"
      },
      "id": "HlgCOs1OKq4k",
      "execution_count": null,
      "outputs": []
    },
    {
      "cell_type": "code",
      "source": [
        "countplotmultiple(df, 4,[\"stalk-shape\",\"stalk-root\",\"stalk-surface-above-ring\",\"stalk-surface-below-ring\"])"
      ],
      "metadata": {
        "id": "LrNa21LxKvwT",
        "colab": {
          "base_uri": "https://localhost:8080/",
          "height": 363
        },
        "outputId": "f4ee103c-54b1-4022-d760-9465fd07f9f3"
      },
      "id": "LrNa21LxKvwT",
      "execution_count": null,
      "outputs": [
        {
          "output_type": "display_data",
          "data": {
            "text/plain": [
              "<Figure size 1440x576 with 4 Axes>"
            ],
            "image/png": "[encoded data removed]"
          },
          "metadata": {
            "needs_background": "light"
          }
        }
      ]
    },
    {
      "cell_type": "markdown",
      "source": [
        "During this experiment we had the option to use one hot encoding to make the features continuous, if we were to do that we will end up with 119 feature.\n",
        "\n",
        "*   This would certainly increase the training time but we can drop features with low relavence to have faster training time.\n",
        "*   stalk surface above ring, scaly: as the number of examples is too low we can drop the feature in that case.\n",
        "\n",
        "\n",
        "---\n",
        "\n",
        "***Stalk surface above/below ring***\n",
        "\n",
        "*   We can see that stalk surface is mostly smooth/silky whether it's above or below the ring hence this could be relavant to the training and obtaining good results.\n"
      ],
      "metadata": {
        "id": "MrNu8SzGftjh"
      },
      "id": "MrNu8SzGftjh"
    },
    {
      "cell_type": "code",
      "source": [
        "countplotmultiple(df, 2,[\"stalk-color-above-ring\",\"stalk-color-below-ring\"])"
      ],
      "metadata": {
        "id": "R6YcpKxegtFD",
        "colab": {
          "base_uri": "https://localhost:8080/",
          "height": 363
        },
        "outputId": "b57fbb3e-4a16-4b42-fe49-b3ee3014d12e"
      },
      "id": "R6YcpKxegtFD",
      "execution_count": null,
      "outputs": [
        {
          "output_type": "display_data",
          "data": {
            "text/plain": [
              "<Figure size 1440x576 with 2 Axes>"
            ],
            "image/png": "[encoded data removed]"
          },
          "metadata": {
            "needs_background": "light"
          }
        }
      ]
    },
    {
      "cell_type": "markdown",
      "source": [
        "We can see here that there is not much difference for stalk colors above and below the ring."
      ],
      "metadata": {
        "id": "aHDTeO2Th6Ay"
      },
      "id": "aHDTeO2Th6Ay"
    },
    {
      "cell_type": "code",
      "source": [
        "# replacing veil features labels\n",
        "df[\"veil-type\"].replace({\"p\": \"partial\", \"u\": \"universal\"}, inplace= True)\n",
        "df[\"veil-color\"].replace({\"n\": \"brown\", \"o\": \"orange\", \"w\": \"white\", \"y\": \"yellow\"}, inplace= True)"
      ],
      "metadata": {
        "id": "LxJgenXVKvmI"
      },
      "id": "LxJgenXVKvmI",
      "execution_count": null,
      "outputs": []
    },
    {
      "cell_type": "code",
      "source": [
        "countplotmultiple(df, 2,[\"veil-type\",\"veil-color\"])"
      ],
      "metadata": {
        "id": "owuGrz2JKyjQ",
        "colab": {
          "base_uri": "https://localhost:8080/",
          "height": 363
        },
        "outputId": "43992a50-1677-4f6e-c94f-82ad32ef00e0"
      },
      "id": "owuGrz2JKyjQ",
      "execution_count": null,
      "outputs": [
        {
          "output_type": "display_data",
          "data": {
            "text/plain": [
              "<Figure size 1440x576 with 2 Axes>"
            ],
            "image/png": "[encoded data removed]"
          },
          "metadata": {
            "needs_background": "light"
          }
        }
      ]
    },
    {
      "cell_type": "markdown",
      "source": [
        "\n",
        "\n",
        "*   It's important to note that all veil types in this dataset are partial, this means that we can 100% drop this attribute since it's constant.\n",
        "\n",
        "\n",
        "*   This also applies to veil-color since most veils are white, this is a quasi-constant features that we can maybe drop to optimize our model.\n",
        "\n",
        "\n",
        "*   If we shift our interest to feature selection, using VarianceThreshold will also show us constant/quasi-constant features that we can eliminate."
      ],
      "metadata": {
        "id": "TN8QMpF6iOla"
      },
      "id": "TN8QMpF6iOla"
    },
    {
      "cell_type": "code",
      "source": [
        "# replacing population and habitat features labels\n",
        "df[\"population\"].replace({\"a\": \"abundant\", \"c\": \"clustered\", \"n\": \"numerous\", \"s\": \"scattered\", \"v\": \"several\", \"y\": \"solitary\"}, inplace= True)\n",
        "df[\"habitat\"].replace({\"g\": \"grasses\", \"l\": \"leaves\", \"m\": \"meadows\", \"p\": \"paths\", \"u\": \"urban\", \"w\": \"waste\", \"d\": \"woods\"}, inplace= True)"
      ],
      "metadata": {
        "id": "S_xPJfxjLAcX"
      },
      "id": "S_xPJfxjLAcX",
      "execution_count": null,
      "outputs": []
    },
    {
      "cell_type": "code",
      "source": [
        "countplotmultiple(df, 2,[\"population\",\"habitat\"])"
      ],
      "metadata": {
        "id": "1AxzeqGSKybN",
        "colab": {
          "base_uri": "https://localhost:8080/",
          "height": 363
        },
        "outputId": "1d17e5a8-b9b4-4bf5-805f-518d15c475c8"
      },
      "id": "1AxzeqGSKybN",
      "execution_count": null,
      "outputs": [
        {
          "output_type": "display_data",
          "data": {
            "text/plain": [
              "<Figure size 1440x576 with 2 Axes>"
            ],
            "image/png": "[encoded data removed]"
          },
          "metadata": {
            "needs_background": "light"
          }
        }
      ]
    },
    {
      "cell_type": "markdown",
      "source": [
        "1.   Population and habitat are likely to be very important features for this supervised learning classification problem.\n",
        "\n",
        "2.   In this experiment, there is not a feature that will determine whether or not the mushroom is edible, this is a binary classification where all the feature contribute to the results.\n",
        "\n",
        "\n"
      ],
      "metadata": {
        "id": "eZFIN5wujkNW"
      },
      "id": "eZFIN5wujkNW"
    },
    {
      "cell_type": "markdown",
      "id": "171d3a75",
      "metadata": {
        "id": "171d3a75"
      },
      "source": [
        "# Preprocessing"
      ]
    },
    {
      "cell_type": "markdown",
      "source": [
        "First, we will check if we have any missing values in the daya, we can see that there are none. so this dataframe is good to go."
      ],
      "metadata": {
        "id": "yaZaqUVWlZh0"
      },
      "id": "yaZaqUVWlZh0"
    },
    {
      "cell_type": "code",
      "execution_count": null,
      "id": "f94e390e",
      "metadata": {
        "id": "f94e390e",
        "colab": {
          "base_uri": "https://localhost:8080/"
        },
        "outputId": "b8bfed7e-aa41-456c-940d-b83c69763d71"
      },
      "outputs": [
        {
          "output_type": "execute_result",
          "data": {
            "text/plain": [
              "class                       0\n",
              "cap-shape                   0\n",
              "cap-surface                 0\n",
              "cap-color                   0\n",
              "bruises                     0\n",
              "odor                        0\n",
              "gill-attachment             0\n",
              "gill-spacing                0\n",
              "gill-size                   0\n",
              "gill-color                  0\n",
              "stalk-shape                 0\n",
              "stalk-root                  0\n",
              "stalk-surface-above-ring    0\n",
              "stalk-surface-below-ring    0\n",
              "stalk-color-above-ring      0\n",
              "stalk-color-below-ring      0\n",
              "veil-type                   0\n",
              "veil-color                  0\n",
              "ring-number                 0\n",
              "ring-type                   0\n",
              "spore-print-color           0\n",
              "population                  0\n",
              "habitat                     0\n",
              "dtype: int64"
            ]
          },
          "metadata": {},
          "execution_count": 78
        }
      ],
      "source": [
        "df.isnull().sum()"
      ]
    },
    {
      "cell_type": "markdown",
      "source": [
        "Using a label encoder, we were able to transform our data from character labels to numerical."
      ],
      "metadata": {
        "id": "2gwRTSF8lq-d"
      },
      "id": "2gwRTSF8lq-d"
    },
    {
      "cell_type": "code",
      "execution_count": null,
      "id": "1b1bd550",
      "metadata": {
        "id": "1b1bd550",
        "colab": {
          "base_uri": "https://localhost:8080/",
          "height": 540
        },
        "outputId": "3bb16651-1fd0-4237-a474-977c1d7d2f58"
      },
      "outputs": [
        {
          "output_type": "execute_result",
          "data": {
            "text/plain": [
              "      class  cap-shape  cap-surface  cap-color  bruises  odor  \\\n",
              "0         1          2            3          0        0     7   \n",
              "1         0          2            3          9        0     0   \n",
              "2         0          0            3          8        0     1   \n",
              "3         1          2            2          8        0     7   \n",
              "4         0          2            3          3        1     6   \n",
              "...     ...        ...          ...        ...      ...   ...   \n",
              "8119      0          4            3          0        1     6   \n",
              "8120      0          2            3          0        1     6   \n",
              "8121      0          3            3          0        1     6   \n",
              "8122      1          4            2          0        1     3   \n",
              "8123      0          2            3          0        1     6   \n",
              "\n",
              "      gill-attachment  gill-spacing  gill-size  gill-color  ...  \\\n",
              "0                   1             0          1           0  ...   \n",
              "1                   1             0          0           0  ...   \n",
              "2                   1             0          0           1  ...   \n",
              "3                   1             0          1           1  ...   \n",
              "4                   1             1          0           0  ...   \n",
              "...               ...           ...        ...         ...  ...   \n",
              "8119                0             0          0          11  ...   \n",
              "8120                0             0          0          11  ...   \n",
              "8121                0             0          0           1  ...   \n",
              "8122                1             0          1           2  ...   \n",
              "8123                0             0          0          11  ...   \n",
              "\n",
              "      stalk-surface-below-ring  stalk-color-above-ring  \\\n",
              "0                            3                       7   \n",
              "1                            3                       7   \n",
              "2                            3                       7   \n",
              "3                            3                       7   \n",
              "4                            3                       7   \n",
              "...                        ...                     ...   \n",
              "8119                         3                       4   \n",
              "8120                         3                       4   \n",
              "8121                         3                       4   \n",
              "8122                         2                       7   \n",
              "8123                         3                       4   \n",
              "\n",
              "      stalk-color-below-ring  veil-type  veil-color  ring-number  ring-type  \\\n",
              "0                          7          0           2            1          4   \n",
              "1                          7          0           2            1          4   \n",
              "2                          7          0           2            1          4   \n",
              "3                          7          0           2            1          4   \n",
              "4                          7          0           2            1          0   \n",
              "...                      ...        ...         ...          ...        ...   \n",
              "8119                       4          0           1            1          4   \n",
              "8120                       4          0           0            1          4   \n",
              "8121                       4          0           1            1          4   \n",
              "8122                       7          0           2            1          0   \n",
              "8123                       4          0           1            1          4   \n",
              "\n",
              "      spore-print-color  population  habitat  \n",
              "0                     2           3        4  \n",
              "1                     3           2        0  \n",
              "2                     3           2        2  \n",
              "3                     2           3        4  \n",
              "4                     3           0        0  \n",
              "...                 ...         ...      ...  \n",
              "8119                  0           1        1  \n",
              "8120                  0           4        1  \n",
              "8121                  0           1        1  \n",
              "8122                  7           4        1  \n",
              "8123                  4           1        1  \n",
              "\n",
              "[8124 rows x 23 columns]"
            ],
            "text/html": [
              "\n",
              "  <div id=\"df-ce8ab350-2513-4556-b721-af9fd65c9022\">\n",
              "    <div class=\"colab-df-container\">\n",
              "      <div>\n",
              "<style scoped>\n",
              "    .dataframe tbody tr th:only-of-type {\n",
              "        vertical-align: middle;\n",
              "    }\n",
              "\n",
              "    .dataframe tbody tr th {\n",
              "        vertical-align: top;\n",
              "    }\n",
              "\n",
              "    .dataframe thead th {\n",
              "        text-align: right;\n",
              "    }\n",
              "</style>\n",
              "<table border=\"1\" class=\"dataframe\">\n",
              "  <thead>\n",
              "    <tr style=\"text-align: right;\">\n",
              "      <th></th>\n",
              "      <th>class</th>\n",
              "      <th>cap-shape</th>\n",
              "      <th>cap-surface</th>\n",
              "      <th>cap-color</th>\n",
              "      <th>bruises</th>\n",
              "      <th>odor</th>\n",
              "      <th>gill-attachment</th>\n",
              "      <th>gill-spacing</th>\n",
              "      <th>gill-size</th>\n",
              "      <th>gill-color</th>\n",
              "      <th>...</th>\n",
              "      <th>stalk-surface-below-ring</th>\n",
              "      <th>stalk-color-above-ring</th>\n",
              "      <th>stalk-color-below-ring</th>\n",
              "      <th>veil-type</th>\n",
              "      <th>veil-color</th>\n",
              "      <th>ring-number</th>\n",
              "      <th>ring-type</th>\n",
              "      <th>spore-print-color</th>\n",
              "      <th>population</th>\n",
              "      <th>habitat</th>\n",
              "    </tr>\n",
              "  </thead>\n",
              "  <tbody>\n",
              "    <tr>\n",
              "      <th>0</th>\n",
              "      <td>1</td>\n",
              "      <td>2</td>\n",
              "      <td>3</td>\n",
              "      <td>0</td>\n",
              "      <td>0</td>\n",
              "      <td>7</td>\n",
              "      <td>1</td>\n",
              "      <td>0</td>\n",
              "      <td>1</td>\n",
              "      <td>0</td>\n",
              "      <td>...</td>\n",
              "      <td>3</td>\n",
              "      <td>7</td>\n",
              "      <td>7</td>\n",
              "      <td>0</td>\n",
              "      <td>2</td>\n",
              "      <td>1</td>\n",
              "      <td>4</td>\n",
              "      <td>2</td>\n",
              "      <td>3</td>\n",
              "      <td>4</td>\n",
              "    </tr>\n",
              "    <tr>\n",
              "      <th>1</th>\n",
              "      <td>0</td>\n",
              "      <td>2</td>\n",
              "      <td>3</td>\n",
              "      <td>9</td>\n",
              "      <td>0</td>\n",
              "      <td>0</td>\n",
              "      <td>1</td>\n",
              "      <td>0</td>\n",
              "      <td>0</td>\n",
              "      <td>0</td>\n",
              "      <td>...</td>\n",
              "      <td>3</td>\n",
              "      <td>7</td>\n",
              "      <td>7</td>\n",
              "      <td>0</td>\n",
              "      <td>2</td>\n",
              "      <td>1</td>\n",
              "      <td>4</td>\n",
              "      <td>3</td>\n",
              "      <td>2</td>\n",
              "      <td>0</td>\n",
              "    </tr>\n",
              "    <tr>\n",
              "      <th>2</th>\n",
              "      <td>0</td>\n",
              "      <td>0</td>\n",
              "      <td>3</td>\n",
              "      <td>8</td>\n",
              "      <td>0</td>\n",
              "      <td>1</td>\n",
              "      <td>1</td>\n",
              "      <td>0</td>\n",
              "      <td>0</td>\n",
              "      <td>1</td>\n",
              "      <td>...</td>\n",
              "      <td>3</td>\n",
              "      <td>7</td>\n",
              "      <td>7</td>\n",
              "      <td>0</td>\n",
              "      <td>2</td>\n",
              "      <td>1</td>\n",
              "      <td>4</td>\n",
              "      <td>3</td>\n",
              "      <td>2</td>\n",
              "      <td>2</td>\n",
              "    </tr>\n",
              "    <tr>\n",
              "      <th>3</th>\n",
              "      <td>1</td>\n",
              "      <td>2</td>\n",
              "      <td>2</td>\n",
              "      <td>8</td>\n",
              "      <td>0</td>\n",
              "      <td>7</td>\n",
              "      <td>1</td>\n",
              "      <td>0</td>\n",
              "      <td>1</td>\n",
              "      <td>1</td>\n",
              "      <td>...</td>\n",
              "      <td>3</td>\n",
              "      <td>7</td>\n",
              "      <td>7</td>\n",
              "      <td>0</td>\n",
              "      <td>2</td>\n",
              "      <td>1</td>\n",
              "      <td>4</td>\n",
              "      <td>2</td>\n",
              "      <td>3</td>\n",
              "      <td>4</td>\n",
              "    </tr>\n",
              "    <tr>\n",
              "      <th>4</th>\n",
              "      <td>0</td>\n",
              "      <td>2</td>\n",
              "      <td>3</td>\n",
              "      <td>3</td>\n",
              "      <td>1</td>\n",
              "      <td>6</td>\n",
              "      <td>1</td>\n",
              "      <td>1</td>\n",
              "      <td>0</td>\n",
              "      <td>0</td>\n",
              "      <td>...</td>\n",
              "      <td>3</td>\n",
              "      <td>7</td>\n",
              "      <td>7</td>\n",
              "      <td>0</td>\n",
              "      <td>2</td>\n",
              "      <td>1</td>\n",
              "      <td>0</td>\n",
              "      <td>3</td>\n",
              "      <td>0</td>\n",
              "      <td>0</td>\n",
              "    </tr>\n",
              "    <tr>\n",
              "      <th>...</th>\n",
              "      <td>...</td>\n",
              "      <td>...</td>\n",
              "      <td>...</td>\n",
              "      <td>...</td>\n",
              "      <td>...</td>\n",
              "      <td>...</td>\n",
              "      <td>...</td>\n",
              "      <td>...</td>\n",
              "      <td>...</td>\n",
              "      <td>...</td>\n",
              "      <td>...</td>\n",
              "      <td>...</td>\n",
              "      <td>...</td>\n",
              "      <td>...</td>\n",
              "      <td>...</td>\n",
              "      <td>...</td>\n",
              "      <td>...</td>\n",
              "      <td>...</td>\n",
              "      <td>...</td>\n",
              "      <td>...</td>\n",
              "      <td>...</td>\n",
              "    </tr>\n",
              "    <tr>\n",
              "      <th>8119</th>\n",
              "      <td>0</td>\n",
              "      <td>4</td>\n",
              "      <td>3</td>\n",
              "      <td>0</td>\n",
              "      <td>1</td>\n",
              "      <td>6</td>\n",
              "      <td>0</td>\n",
              "      <td>0</td>\n",
              "      <td>0</td>\n",
              "      <td>11</td>\n",
              "      <td>...</td>\n",
              "      <td>3</td>\n",
              "      <td>4</td>\n",
              "      <td>4</td>\n",
              "      <td>0</td>\n",
              "      <td>1</td>\n",
              "      <td>1</td>\n",
              "      <td>4</td>\n",
              "      <td>0</td>\n",
              "      <td>1</td>\n",
              "      <td>1</td>\n",
              "    </tr>\n",
              "    <tr>\n",
              "      <th>8120</th>\n",
              "      <td>0</td>\n",
              "      <td>2</td>\n",
              "      <td>3</td>\n",
              "      <td>0</td>\n",
              "      <td>1</td>\n",
              "      <td>6</td>\n",
              "      <td>0</td>\n",
              "      <td>0</td>\n",
              "      <td>0</td>\n",
              "      <td>11</td>\n",
              "      <td>...</td>\n",
              "      <td>3</td>\n",
              "      <td>4</td>\n",
              "      <td>4</td>\n",
              "      <td>0</td>\n",
              "      <td>0</td>\n",
              "      <td>1</td>\n",
              "      <td>4</td>\n",
              "      <td>0</td>\n",
              "      <td>4</td>\n",
              "      <td>1</td>\n",
              "    </tr>\n",
              "    <tr>\n",
              "      <th>8121</th>\n",
              "      <td>0</td>\n",
              "      <td>3</td>\n",
              "      <td>3</td>\n",
              "      <td>0</td>\n",
              "      <td>1</td>\n",
              "      <td>6</td>\n",
              "      <td>0</td>\n",
              "      <td>0</td>\n",
              "      <td>0</td>\n",
              "      <td>1</td>\n",
              "      <td>...</td>\n",
              "      <td>3</td>\n",
              "      <td>4</td>\n",
              "      <td>4</td>\n",
              "      <td>0</td>\n",
              "      <td>1</td>\n",
              "      <td>1</td>\n",
              "      <td>4</td>\n",
              "      <td>0</td>\n",
              "      <td>1</td>\n",
              "      <td>1</td>\n",
              "    </tr>\n",
              "    <tr>\n",
              "      <th>8122</th>\n",
              "      <td>1</td>\n",
              "      <td>4</td>\n",
              "      <td>2</td>\n",
              "      <td>0</td>\n",
              "      <td>1</td>\n",
              "      <td>3</td>\n",
              "      <td>1</td>\n",
              "      <td>0</td>\n",
              "      <td>1</td>\n",
              "      <td>2</td>\n",
              "      <td>...</td>\n",
              "      <td>2</td>\n",
              "      <td>7</td>\n",
              "      <td>7</td>\n",
              "      <td>0</td>\n",
              "      <td>2</td>\n",
              "      <td>1</td>\n",
              "      <td>0</td>\n",
              "      <td>7</td>\n",
              "      <td>4</td>\n",
              "      <td>1</td>\n",
              "    </tr>\n",
              "    <tr>\n",
              "      <th>8123</th>\n",
              "      <td>0</td>\n",
              "      <td>2</td>\n",
              "      <td>3</td>\n",
              "      <td>0</td>\n",
              "      <td>1</td>\n",
              "      <td>6</td>\n",
              "      <td>0</td>\n",
              "      <td>0</td>\n",
              "      <td>0</td>\n",
              "      <td>11</td>\n",
              "      <td>...</td>\n",
              "      <td>3</td>\n",
              "      <td>4</td>\n",
              "      <td>4</td>\n",
              "      <td>0</td>\n",
              "      <td>1</td>\n",
              "      <td>1</td>\n",
              "      <td>4</td>\n",
              "      <td>4</td>\n",
              "      <td>1</td>\n",
              "      <td>1</td>\n",
              "    </tr>\n",
              "  </tbody>\n",
              "</table>\n",
              "<p>8124 rows × 23 columns</p>\n",
              "</div>\n",
              "      <button class=\"colab-df-convert\" onclick=\"convertToInteractive('df-ce8ab350-2513-4556-b721-af9fd65c9022')\"\n",
              "              title=\"Convert this dataframe to an interactive table.\"\n",
              "              style=\"display:none;\">\n",
              "        \n",
              "  <svg xmlns=\"http://www.w3.org/2000/svg\" height=\"24px\"viewBox=\"0 0 24 24\"\n",
              "       width=\"24px\">\n",
              "    <path d=\"M0 0h24v24H0V0z\" fill=\"none\"/>\n",
              "    <path d=\"M18.56 5.44l.94 2.06.94-2.06 2.06-.94-2.06-.94-.94-2.06-.94 2.06-2.06.94zm-11 1L8.5 8.5l.94-2.06 2.06-.94-2.06-.94L8.5 2.5l-.94 2.06-2.06.94zm10 10l.94 2.06.94-2.06 2.06-.94-2.06-.94-.94-2.06-.94 2.06-2.06.94z\"/><path d=\"M17.41 7.96l-1.37-1.37c-.4-.4-.92-.59-1.43-.59-.52 0-1.04.2-1.43.59L10.3 9.45l-7.72 7.72c-.78.78-.78 2.05 0 2.83L4 21.41c.39.39.9.59 1.41.59.51 0 1.02-.2 1.41-.59l7.78-7.78 2.81-2.81c.8-.78.8-2.07 0-2.86zM5.41 20L4 18.59l7.72-7.72 1.47 1.35L5.41 20z\"/>\n",
              "  </svg>\n",
              "      </button>\n",
              "      \n",
              "  <style>\n",
              "    .colab-df-container {\n",
              "      display:flex;\n",
              "      flex-wrap:wrap;\n",
              "      gap: 12px;\n",
              "    }\n",
              "\n",
              "    .colab-df-convert {\n",
              "      background-color: #E8F0FE;\n",
              "      border: none;\n",
              "      border-radius: 50%;\n",
              "      cursor: pointer;\n",
              "      display: none;\n",
              "      fill: #1967D2;\n",
              "      height: 32px;\n",
              "      padding: 0 0 0 0;\n",
              "      width: 32px;\n",
              "    }\n",
              "\n",
              "    .colab-df-convert:hover {\n",
              "      background-color: #E2EBFA;\n",
              "      box-shadow: 0px 1px 2px rgba(60, 64, 67, 0.3), 0px 1px 3px 1px rgba(60, 64, 67, 0.15);\n",
              "      fill: #174EA6;\n",
              "    }\n",
              "\n",
              "    [theme=dark] .colab-df-convert {\n",
              "      background-color: #3B4455;\n",
              "      fill: #D2E3FC;\n",
              "    }\n",
              "\n",
              "    [theme=dark] .colab-df-convert:hover {\n",
              "      background-color: #434B5C;\n",
              "      box-shadow: 0px 1px 3px 1px rgba(0, 0, 0, 0.15);\n",
              "      filter: drop-shadow(0px 1px 2px rgba(0, 0, 0, 0.3));\n",
              "      fill: #FFFFFF;\n",
              "    }\n",
              "  </style>\n",
              "\n",
              "      <script>\n",
              "        const buttonEl =\n",
              "          document.querySelector('#df-ce8ab350-2513-4556-b721-af9fd65c9022 button.colab-df-convert');\n",
              "        buttonEl.style.display =\n",
              "          google.colab.kernel.accessAllowed ? 'block' : 'none';\n",
              "\n",
              "        async function convertToInteractive(key) {\n",
              "          const element = document.querySelector('#df-ce8ab350-2513-4556-b721-af9fd65c9022');\n",
              "          const dataTable =\n",
              "            await google.colab.kernel.invokeFunction('convertToInteractive',\n",
              "                                                     [key], {});\n",
              "          if (!dataTable) return;\n",
              "\n",
              "          const docLinkHtml = 'Like what you see? Visit the ' +\n",
              "            '<a target=\"_blank\" href=https://colab.research.google.com/notebooks/data_table.ipynb>data table notebook</a>'\n",
              "            + ' to learn more about interactive tables.';\n",
              "          element.innerHTML = '';\n",
              "          dataTable['output_type'] = 'display_data';\n",
              "          await google.colab.output.renderOutput(dataTable, element);\n",
              "          const docLink = document.createElement('div');\n",
              "          docLink.innerHTML = docLinkHtml;\n",
              "          element.appendChild(docLink);\n",
              "        }\n",
              "      </script>\n",
              "    </div>\n",
              "  </div>\n",
              "  "
            ]
          },
          "metadata": {},
          "execution_count": 79
        }
      ],
      "source": [
        "encoder = LabelEncoder()\n",
        "df = df.apply(LabelEncoder().fit_transform)\n",
        "df"
      ]
    },
    {
      "cell_type": "markdown",
      "source": [
        "We seprate the data into input features X and 1 output feature y \"class\" 1 for poisonous and 0 for edible."
      ],
      "metadata": {
        "id": "N87rIBCCl64p"
      },
      "id": "N87rIBCCl64p"
    },
    {
      "cell_type": "code",
      "execution_count": null,
      "id": "dfb03c2a",
      "metadata": {
        "id": "dfb03c2a"
      },
      "outputs": [],
      "source": [
        "y = df['class']\n",
        "X = df.drop('class', axis=1)"
      ]
    },
    {
      "cell_type": "markdown",
      "source": [
        "Using train test split, we will perform a Cross-Validation to be able to evaluate and compare learning algorithms by dividing data into two segments:\n",
        "\n",
        "\n",
        "*   One used to learn or train a model.\n",
        "*   The other used to validate the model.\n",
        "\n"
      ],
      "metadata": {
        "id": "phaZNWUCmWHk"
      },
      "id": "phaZNWUCmWHk"
    },
    {
      "cell_type": "code",
      "execution_count": null,
      "id": "378ac630",
      "metadata": {
        "id": "378ac630"
      },
      "outputs": [],
      "source": [
        "X_train, X_test, y_train, y_test = train_test_split(X, y, train_size=0.8,\n",
        "                                                    random_state=25)"
      ]
    },
    {
      "cell_type": "markdown",
      "id": "acbc2040",
      "metadata": {
        "id": "acbc2040"
      },
      "source": [
        "# Model Selection & Training"
      ]
    },
    {
      "cell_type": "markdown",
      "source": [
        "## Building Naive Bayes Classifier"
      ],
      "metadata": {
        "id": "VUqyfolmof8-"
      },
      "id": "VUqyfolmof8-"
    },
    {
      "cell_type": "markdown",
      "source": [
        "First, we calculate the percentage of data points belonging to the mentioned class."
      ],
      "metadata": {
        "id": "VK49LZAVslPm"
      },
      "id": "VK49LZAVslPm"
    },
    {
      "cell_type": "code",
      "source": [
        "def priorProbability(y_train, label):\n",
        "    \n",
        "    totalpts = y_train.shape[0]\n",
        "    classpts = np.sum(y_train == label)\n",
        "    \n",
        "    return classpts/float(totalpts)"
      ],
      "metadata": {
        "id": "NDRzr4YGooDd"
      },
      "id": "NDRzr4YGooDd",
      "execution_count": null,
      "outputs": []
    },
    {
      "cell_type": "markdown",
      "source": [
        "In the next function, we will calculate the conditional probability."
      ],
      "metadata": {
        "id": "OWY6kRQatGuh"
      },
      "id": "OWY6kRQatGuh"
    },
    {
      "cell_type": "code",
      "source": [
        "def conditionalProbability(X_train, y_train, feat_col, feat_val, label):\n",
        "    \n",
        "    X_new = X_train[y_train == label]\n",
        "    \n",
        "    num = np.sum(X_new[feat_col] == feat_val)\n",
        "    denom = np.sum(y_train == label)\n",
        "    result = num/float(denom)\n",
        "    \n",
        "    return result"
      ],
      "metadata": {
        "id": "4FqyEeq3qdpN"
      },
      "id": "4FqyEeq3qdpN",
      "execution_count": null,
      "outputs": []
    },
    {
      "cell_type": "markdown",
      "source": [
        "The last function is to calculate the posterior probability and make predictions."
      ],
      "metadata": {
        "id": "zmwHIEh2uTnv"
      },
      "id": "zmwHIEh2uTnv"
    },
    {
      "cell_type": "code",
      "source": [
        "def predict(X_train, y_train, xtest):\n",
        "    \n",
        "    classes = np.unique(y_train)\n",
        "\n",
        "    features = [x for x in X_train.columns]\n",
        "    \n",
        "    post_probs = []\n",
        "    \n",
        "    for label in classes:\n",
        "        \n",
        "        likelihood = 1.0\n",
        "        \n",
        "        for f in features:\n",
        "            likelihood *= conditionalProbability(X_train, y_train, f, xtest[f], label)\n",
        "\n",
        "        posterior = priorProbability(y_train, label) * likelihood\n",
        "        \n",
        "        post_probs.append(posterior)\n",
        "\n",
        "    prediction = np.argmax(post_probs)\n",
        "    \n",
        "    return prediction   "
      ],
      "metadata": {
        "id": "dLTWUOrMqoSU"
      },
      "id": "dLTWUOrMqoSU",
      "execution_count": null,
      "outputs": []
    },
    {
      "cell_type": "markdown",
      "source": [
        "## Gaussian Naive Bayes"
      ],
      "metadata": {
        "id": "dnWeQ1qyneuR"
      },
      "id": "dnWeQ1qyneuR"
    },
    {
      "cell_type": "code",
      "source": [
        "gnb_model = GaussianNB()\n",
        "gnb_model.fit(X_train, y_train)"
      ],
      "metadata": {
        "id": "PnZaE8T2nj_o",
        "colab": {
          "base_uri": "https://localhost:8080/"
        },
        "outputId": "7e4dd6a0-4642-4cdd-8f78-b4d34fd1a00b"
      },
      "id": "PnZaE8T2nj_o",
      "execution_count": null,
      "outputs": [
        {
          "output_type": "execute_result",
          "data": {
            "text/plain": [
              "GaussianNB()"
            ]
          },
          "metadata": {},
          "execution_count": 85
        }
      ]
    },
    {
      "cell_type": "markdown",
      "source": [
        "## Logistic Regression"
      ],
      "metadata": {
        "id": "p4tOLFrenE_W"
      },
      "id": "p4tOLFrenE_W"
    },
    {
      "cell_type": "code",
      "execution_count": null,
      "id": "bfce4436",
      "metadata": {
        "id": "bfce4436",
        "colab": {
          "base_uri": "https://localhost:8080/"
        },
        "outputId": "1e819ad2-2202-4325-c9c4-a9453d926a12"
      },
      "outputs": [
        {
          "output_type": "execute_result",
          "data": {
            "text/plain": [
              "LogisticRegression()"
            ]
          },
          "metadata": {},
          "execution_count": 86
        }
      ],
      "source": [
        "log_model = LogisticRegression()\n",
        "log_model.fit(X_train, y_train)"
      ]
    },
    {
      "cell_type": "markdown",
      "source": [
        "## Multi-Layer Perceptron"
      ],
      "metadata": {
        "id": "mUW78HEGnQ4A"
      },
      "id": "mUW78HEGnQ4A"
    },
    {
      "cell_type": "code",
      "execution_count": null,
      "id": "bfa72d66",
      "metadata": {
        "id": "bfa72d66",
        "colab": {
          "base_uri": "https://localhost:8080/"
        },
        "outputId": "467bbbf9-e41c-4542-dee2-bac14360c7f9"
      },
      "outputs": [
        {
          "output_type": "execute_result",
          "data": {
            "text/plain": [
              "MLPClassifier(hidden_layer_sizes=(128, 128))"
            ]
          },
          "metadata": {},
          "execution_count": 87
        }
      ],
      "source": [
        "nn_model = MLPClassifier(hidden_layer_sizes=(128, 128))\n",
        "nn_model.fit(X_train, y_train)"
      ]
    },
    {
      "cell_type": "markdown",
      "id": "4a61c274",
      "metadata": {
        "id": "4a61c274"
      },
      "source": [
        "# Evaluation"
      ]
    },
    {
      "cell_type": "markdown",
      "source": [
        "Accuracy score function is to check the results on the test data and calculate an accuracy score for the naive bayes classifier."
      ],
      "metadata": {
        "id": "VtlRGnNEuxaE"
      },
      "id": "VtlRGnNEuxaE"
    },
    {
      "cell_type": "code",
      "source": [
        "def accuracy_score(X_train, y_train, xtest, ytest):\n",
        "    \n",
        "    preds = []\n",
        "    \n",
        "    for i in range(xtest.shape[0]):\n",
        "        pred_label = predict(X_train, y_train, xtest.iloc[i])\n",
        "        preds.append(pred_label)\n",
        "        \n",
        "    preds = np.array(preds)\n",
        "    \n",
        "    accuracy = np.sum(preds == ytest)/ytest.shape[0]\n",
        "    \n",
        "    return accuracy"
      ],
      "metadata": {
        "id": "4Yrdn0lQq35u"
      },
      "id": "4Yrdn0lQq35u",
      "execution_count": null,
      "outputs": []
    },
    {
      "cell_type": "code",
      "execution_count": null,
      "id": "640f8cd3",
      "metadata": {
        "id": "640f8cd3",
        "colab": {
          "base_uri": "https://localhost:8080/"
        },
        "outputId": "b03a184e-3681-4be9-e5c5-49d1e15e7d64"
      },
      "outputs": [
        {
          "output_type": "stream",
          "name": "stdout",
          "text": [
            "Naive Bayes accuracy: 0.9950769230769231\n",
            "Gaussian Naive Bayes accuracy: 0.8646153846153846\n",
            "Logistic Regression accuracy: 0.9587692307692308\n",
            "Neural Network accuracy: 1.0\n"
          ]
        }
      ],
      "source": [
        "print(f\"Naive Bayes accuracy:\", accuracy_score(X_train, y_train, X_test, y_test))\n",
        "print(f\"Gaussian Naive Bayes accuracy: {gnb_model.score(X_test, y_test)}\")\n",
        "print(f\"Logistic Regression accuracy: {log_model.score(X_test, y_test)}\")\n",
        "print(f\"Neural Network accuracy: {nn_model.score(X_test, y_test)}\")"
      ]
    },
    {
      "cell_type": "markdown",
      "id": "3d190e6f",
      "metadata": {
        "id": "3d190e6f"
      },
      "source": [
        "# Optimization"
      ]
    },
    {
      "cell_type": "code",
      "execution_count": null,
      "id": "8968639c",
      "metadata": {
        "id": "8968639c"
      },
      "outputs": [],
      "source": [
        "scaler = StandardScaler()\n",
        "\n",
        "X = pd.DataFrame(scaler.fit_transform(X), columns=X.columns)"
      ]
    },
    {
      "cell_type": "code",
      "execution_count": null,
      "id": "7d21a733",
      "metadata": {
        "id": "7d21a733"
      },
      "outputs": [],
      "source": [
        "X_train, X_test, y_train, y_test = train_test_split(X, y, train_size=0.8, random_state=25)"
      ]
    },
    {
      "cell_type": "code",
      "execution_count": null,
      "id": "49aa5993",
      "metadata": {
        "id": "49aa5993",
        "colab": {
          "base_uri": "https://localhost:8080/"
        },
        "outputId": "66ac5254-700a-4f2f-d123-6fa7a15b5cfd"
      },
      "outputs": [
        {
          "output_type": "stream",
          "name": "stdout",
          "text": [
            "Logistic Regression: 0.963076923076923\n"
          ]
        }
      ],
      "source": [
        "log_model.fit(X_train, y_train)\n",
        "print(f\"Logistic Regression: {log_model.score(X_test, y_test)}\")"
      ]
    },
    {
      "cell_type": "code",
      "execution_count": null,
      "id": "9cfad480",
      "metadata": {
        "id": "9cfad480"
      },
      "outputs": [],
      "source": [
        "param_grid = [    \n",
        "    {'penalty' : ['l1', 'l2', 'none'],\n",
        "    'C' : np.logspace(-4, 4, 20),\n",
        "    'solver' : ['newton-cg','liblinear'],\n",
        "    'max_iter' : [100]\n",
        "    }\n",
        "]"
      ]
    },
    {
      "cell_type": "code",
      "execution_count": null,
      "id": "e26fb4a6",
      "metadata": {
        "id": "e26fb4a6",
        "colab": {
          "base_uri": "https://localhost:8080/"
        },
        "outputId": "98bee035-549d-44fd-baa3-c5ac1c9bf34d"
      },
      "outputs": [
        {
          "output_type": "stream",
          "name": "stdout",
          "text": [
            "Fitting 3 folds for each of 120 candidates, totalling 360 fits\n"
          ]
        }
      ],
      "source": [
        "clf = GridSearchCV(log_model, param_grid = param_grid, cv = 3, verbose=True, n_jobs=-1)\n",
        "best_clf = clf.fit(X_train,y_train)"
      ]
    },
    {
      "cell_type": "code",
      "execution_count": null,
      "id": "be7248ca",
      "metadata": {
        "id": "be7248ca",
        "colab": {
          "base_uri": "https://localhost:8080/"
        },
        "outputId": "2c1d0c13-563c-4530-9af3-f96abe204d77"
      },
      "outputs": [
        {
          "output_type": "execute_result",
          "data": {
            "text/plain": [
              "LogisticRegression(C=0.0001, penalty='none', solver='newton-cg')"
            ]
          },
          "metadata": {},
          "execution_count": 95
        }
      ],
      "source": [
        "best_clf.best_estimator_"
      ]
    },
    {
      "cell_type": "code",
      "execution_count": null,
      "id": "1cd97e54",
      "metadata": {
        "id": "1cd97e54",
        "colab": {
          "base_uri": "https://localhost:8080/"
        },
        "outputId": "7ded79be-18ea-4b0b-d5a4-853943766eb9"
      },
      "outputs": [
        {
          "output_type": "stream",
          "name": "stdout",
          "text": [
            "Logistic Regression accuracy: 0.9723076923076923%\n"
          ]
        }
      ],
      "source": [
        "print(f\"Logistic Regression accuracy: {best_clf.score(X_test, y_test)}\" + \"%\")"
      ]
    },
    {
      "cell_type": "markdown",
      "id": "ae9aeb44",
      "metadata": {
        "id": "ae9aeb44"
      },
      "source": [
        "# Visualization & Result analysis"
      ]
    },
    {
      "cell_type": "markdown",
      "source": [
        "##  1.Precision vs Recall Analysis"
      ],
      "metadata": {
        "id": "NMnfn5bn6q5F"
      },
      "id": "NMnfn5bn6q5F"
    },
    {
      "cell_type": "markdown",
      "source": [
        "### Precesion-Recall Curve using Logistic Regression"
      ],
      "metadata": {
        "id": "U4U7As0h6l_e"
      },
      "id": "U4U7As0h6l_e"
    },
    {
      "cell_type": "markdown",
      "source": [
        "These are the results of the precision vs recall curve when using the logistic regression model"
      ],
      "metadata": {
        "id": "vsBlXJ2kQ95A"
      },
      "id": "vsBlXJ2kQ95A"
    },
    {
      "cell_type": "code",
      "execution_count": null,
      "id": "80d66b40",
      "metadata": {
        "id": "80d66b40",
        "colab": {
          "base_uri": "https://localhost:8080/",
          "height": 295
        },
        "outputId": "998df85d-5662-4bef-a3ff-68b038e91a90"
      },
      "outputs": [
        {
          "output_type": "display_data",
          "data": {
            "text/plain": [
              "<Figure size 432x288 with 1 Axes>"
            ],
            "image/png": "[encoded data removed]"
          },
          "metadata": {
            "needs_background": "light"
          }
        }
      ],
      "source": [
        "#using logistic regression model to make predictions\n",
        "y_score = log_model.predict_proba(X_test)[:, 1]\n",
        "\n",
        "prec, recall, thresholds = precision_recall_curve(y_test,y_score)\n",
        "\n",
        "fig, ax = plt.subplots()\n",
        "ax.plot( recall, prec, color='blue')\n",
        "ax.set_title('Precesion-Recall Curve using Logistic Regression')\n",
        "ax.set_ylabel('Precision')\n",
        "ax.set_xlabel('Recall')\n",
        "\n",
        "plt.show()"
      ]
    },
    {
      "cell_type": "markdown",
      "source": [
        "### Precesion-Recall Curve using Optimized Logistic Regression"
      ],
      "metadata": {
        "id": "iryUxwzq6fTa"
      },
      "id": "iryUxwzq6fTa"
    },
    {
      "cell_type": "markdown",
      "source": [
        "Precison vs recall curve for the optimized logistic regression model .We notice that the precison improves a little but the recal is overall the same."
      ],
      "metadata": {
        "id": "kmg-r4WgRkAI"
      },
      "id": "kmg-r4WgRkAI"
    },
    {
      "cell_type": "code",
      "source": [
        "#using the optimized logistic regression model to make predictions\n",
        "y_score = best_clf.predict_proba(X_test)[:, 1]\n",
        "\n",
        "prec, recall, thresholds = precision_recall_curve(y_test,y_score)\n",
        "\n",
        "fig, ax = plt.subplots()\n",
        "ax.plot( recall, prec, color='purple')\n",
        "ax.set_title('Precesion-Recall Curve using Optimized Logistic Regression')\n",
        "ax.set_ylabel('Precision')\n",
        "ax.set_xlabel('Recall')\n",
        "\n",
        "plt.show()"
      ],
      "metadata": {
        "id": "PnLCcuEnRY5L",
        "colab": {
          "base_uri": "https://localhost:8080/",
          "height": 295
        },
        "outputId": "a5beeceb-ff00-4936-e0bf-5cf9ca192187"
      },
      "id": "PnLCcuEnRY5L",
      "execution_count": null,
      "outputs": [
        {
          "output_type": "display_data",
          "data": {
            "text/plain": [
              "<Figure size 432x288 with 1 Axes>"
            ],
            "image/png": "[encoded data removed]"
          },
          "metadata": {
            "needs_background": "light"
          }
        }
      ]
    },
    {
      "cell_type": "markdown",
      "source": [
        "### Precesion-Recall Curve using Neural Networks"
      ],
      "metadata": {
        "id": "u-xDZRGK6aCl"
      },
      "id": "u-xDZRGK6aCl"
    },
    {
      "cell_type": "code",
      "source": [
        "#use neural network model to make predictions\n",
        "y_score = nn_model.predict_proba(X_test)[:, 1]\n",
        "\n",
        "prec, recall, thresholds = precision_recall_curve(y_test,y_score)\n",
        "\n",
        "fig, ax = plt.subplots()\n",
        "ax.plot( recall, prec, color='red')\n",
        "ax.set_title('Precesion-Recall Curve using Neural Networks')\n",
        "ax.set_ylabel('Precision')\n",
        "ax.set_xlabel('Recall')\n",
        "\n",
        "plt.show()"
      ],
      "metadata": {
        "id": "VxZj5IdK-Gez",
        "colab": {
          "base_uri": "https://localhost:8080/",
          "height": 295
        },
        "outputId": "d7df65ea-17d9-42fc-9e68-802c5372b7d1"
      },
      "id": "VxZj5IdK-Gez",
      "execution_count": null,
      "outputs": [
        {
          "output_type": "display_data",
          "data": {
            "text/plain": [
              "<Figure size 432x288 with 1 Axes>"
            ],
            "image/png": "[encoded data removed]"
          },
          "metadata": {
            "needs_background": "light"
          }
        }
      ]
    },
    {
      "cell_type": "markdown",
      "source": [
        "### Precesion-Recall Curve using Gaussian Naive Bayes"
      ],
      "metadata": {
        "id": "kpQ8qouh6WO4"
      },
      "id": "kpQ8qouh6WO4"
    },
    {
      "cell_type": "code",
      "source": [
        "y_score = gnb_model.predict_proba(X_test)[:, 1]\n",
        "\n",
        "prec, recall, thresholds = precision_recall_curve(y_test,y_score)\n",
        "\n",
        "fig, ax = plt.subplots()\n",
        "ax.plot( recall, prec, color='green')\n",
        "ax.set_title('Precesion-Recall Curve using Gaussian Naive Bayes')\n",
        "ax.set_ylabel('Precision')\n",
        "ax.set_xlabel('Recall')\n",
        "\n",
        "plt.show()"
      ],
      "metadata": {
        "colab": {
          "base_uri": "https://localhost:8080/",
          "height": 295
        },
        "id": "MiLP_64j48i7",
        "outputId": "0c3ceb90-48f0-40f9-c3e0-c76988333b5f"
      },
      "id": "MiLP_64j48i7",
      "execution_count": null,
      "outputs": [
        {
          "output_type": "display_data",
          "data": {
            "text/plain": [
              "<Figure size 432x288 with 1 Axes>"
            ],
            "image/png": "[encoded data removed]"
          },
          "metadata": {
            "needs_background": "light"
          }
        }
      ]
    },
    {
      "cell_type": "markdown",
      "source": [
        "## 2.Correct Count Analysis"
      ],
      "metadata": {
        "id": "7OhLCd387JSj"
      },
      "id": "7OhLCd387JSj"
    },
    {
      "cell_type": "markdown",
      "source": [
        "We will determine which model did better by visualizing the amount of predictions that were made correctly vs. made incorrectly by each model. And to help us visualize the results, we will build a pandas DataFrame, that we can use to help us make the plot with seaborn."
      ],
      "metadata": {
        "id": "GcA7oblsB-7f"
      },
      "id": "GcA7oblsB-7f"
    },
    {
      "cell_type": "code",
      "source": [
        "y_score = log_model.predict(X_test)\n",
        "\n",
        "result_df = pd.DataFrame()\n",
        "result_df['y_test'] = np.array(y_test)\n",
        "result_df['Log_pred'] = y_score\n",
        "result_df['Log_correct'] = result_df['Log_pred'] == result_df['y_test']\n",
        "\n",
        "fig, ax = plt.subplots(1,2)\n",
        "plt.subplots_adjust(right=2)\n",
        "sns.countplot(x=result_df['Log_correct'], order=[True,False], ax=ax[0]).set_title('Logistic Regression')\n",
        "\n",
        "y_scoreOp = best_clf.predict(X_test)\n",
        "\n",
        "result_df['Log_Op_pred'] = y_scoreOp\n",
        "result_df['Log_Op_correct'] = result_df['Log_Op_pred'] == result_df['y_test']\n",
        "\n",
        "sns.countplot(x=result_df['Log_Op_correct'], order=[True,False], ax=ax[1]).set_title('Optimized Logistic Regression')\n",
        "fig.show()\n",
        "\n"
      ],
      "metadata": {
        "id": "34SbvCXdBilI",
        "colab": {
          "base_uri": "https://localhost:8080/",
          "height": 292
        },
        "outputId": "58caa130-60e6-4cf8-a819-f8678df8d7f5"
      },
      "id": "34SbvCXdBilI",
      "execution_count": null,
      "outputs": [
        {
          "output_type": "display_data",
          "data": {
            "text/plain": [
              "<Figure size 432x288 with 2 Axes>"
            ],
            "image/png": "[encoded data removed]"
          },
          "metadata": {
            "needs_background": "light"
          }
        }
      ]
    },
    {
      "cell_type": "code",
      "source": [
        "y_score = nn_model.predict(X_test)\n",
        "\n",
        "result_df = pd.DataFrame()\n",
        "result_df['y_test'] = np.array(y_test)\n",
        "result_df['Nn_pred'] = y_score\n",
        "result_df['Nn_correct'] = result_df['Nn_pred'] == result_df['y_test']\n",
        "\n",
        "fig, ax = plt.subplots(1,2)\n",
        "plt.subplots_adjust(right=2)\n",
        "sns.countplot(x=result_df['Nn_correct'], order=[True,False], ax=ax[0]).set_title('Neural Network')\n",
        "\n",
        "y_scoreGnb = gnb_model.predict(X_test)\n",
        "\n",
        "result_df['Gnb_pred'] = y_scoreGnb\n",
        "result_df['Gnb_correct'] = result_df['Gnb_pred'] == result_df['y_test']\n",
        "\n",
        "sns.countplot(x=result_df['Gnb_correct'], order=[True,False], ax=ax[1]).set_title('Gaussian Naive Bayes')\n",
        "\n",
        "fig.show()\n",
        "\n"
      ],
      "metadata": {
        "id": "qsjrrNl6a-l3",
        "colab": {
          "base_uri": "https://localhost:8080/",
          "height": 292
        },
        "outputId": "79f66d2c-7211-48ae-c2f8-06b2fa6f3af8"
      },
      "id": "qsjrrNl6a-l3",
      "execution_count": null,
      "outputs": [
        {
          "output_type": "display_data",
          "data": {
            "text/plain": [
              "<Figure size 432x288 with 2 Axes>"
            ],
            "image/png": "[encoded data removed]"
          },
          "metadata": {
            "needs_background": "light"
          }
        }
      ]
    },
    {
      "cell_type": "markdown",
      "id": "341f0284",
      "metadata": {
        "id": "341f0284"
      },
      "source": [
        "# References"
      ]
    },
    {
      "cell_type": "markdown",
      "source": [
        "*   Splitting dataset into train/test splits: \n",
        "\n",
        "https://towardsdatascience.com/how-to-split-a-dataset-into-training-and-testing-sets-b146b1649830\n",
        "\n",
        "*   Feature selection:\n",
        "\n",
        "https://scikit-learn.org/stable/modules/feature_selection.html\n",
        "\n",
        "*   Ordinal encoder to change features to float/integer values:\n",
        "\n",
        "https://medium.com/nerd-for-tech/removing-constant-variables-feature-selection-463e2d6a30d9\n",
        "\n",
        "*   MLP & Regression:\n",
        "\n",
        "https://www.youtube.com/watch?v=7E7tl6rm7VM\n",
        "\n",
        "*   Optimization:\n",
        "\n",
        "https://www.youtube.com/watch?v=pooXM9mM7FU\n",
        "\n",
        "*   HyperParameters Tuning:\n",
        "\n",
        "https://towardsdatascience.com/l1-and-l2-regularization-methods-ce25e7fc831c\n",
        "\n",
        "https://towardsdatascience.com/dont-sweat-the-solver-stuff-aea7cddc3451\n",
        "\n",
        "https://scikit-learn.org/stable/modules/generated/sklearn.linear_model.LogisticRegression.html\n",
        "\n",
        "*   Visualization and Graph plotting:\n",
        "\n",
        "https://scikit-plot.readthedocs.io/en/stable/\n",
        "\n"
      ],
      "metadata": {
        "id": "sPHoAjz2ETWf"
      },
      "id": "sPHoAjz2ETWf"
    }
  ],
  "metadata": {
    "kernelspec": {
      "display_name": "Python 3",
      "language": "python",
      "name": "python3"
    },
    "language_info": {
      "codemirror_mode": {
        "name": "ipython",
        "version": 3
      },
      "file_extension": ".py",
      "mimetype": "text/x-python",
      "name": "python",
      "nbconvert_exporter": "python",
      "pygments_lexer": "ipython3",
      "version": "3.8.8"
    },
    "colab": {
      "provenance": [],
      "collapsed_sections": [
        "NMnfn5bn6q5F",
        "U4U7As0h6l_e",
        "iryUxwzq6fTa",
        "u-xDZRGK6aCl",
        "kpQ8qouh6WO4"
      ]
    }
  },
  "nbformat": 4,
  "nbformat_minor": 5
}